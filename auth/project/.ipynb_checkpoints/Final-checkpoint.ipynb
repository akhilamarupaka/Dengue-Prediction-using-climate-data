{
 "cells": [
  {
   "cell_type": "code",
   "execution_count": 9,
   "metadata": {},
   "outputs": [],
   "source": [
    "import pandas as pd\n",
    "import numpy as np\n",
    "\n",
    "import matplotlib.pyplot as plt\n",
    "import seaborn as sns\n",
    "\n",
    "from sklearn.model_selection import train_test_split\n",
    "from sklearn.linear_model import LinearRegression\n",
    "from sklearn import linear_model\n",
    "\n",
    "from sklearn.metrics import mean_absolute_error\n",
    "from sklearn.metrics import mean_squared_error\n",
    "\n",
    "from sklearn.preprocessing import StandardScaler\n",
    "from sklearn.tree import DecisionTreeRegressor\n",
    "X = pd.read_csv(r\"C:\\Users\\Akhila\\Desktop\\mini project\\dengue_features_train.csv\")\n",
    "y = pd.read_csv(r\"C:\\Users\\Akhila\\Desktop\\mini project\\dengue_labels_train.csv\")\n",
    "temperature_kelvin_columns = [i for i in X.columns if i.find('_temp_k') > -1]\n",
    "for i in temperature_kelvin_columns:\n",
    "    X[i] = X[i] - 273.15\n",
    "# Changing the column names from _temp_k to _temp_c\n",
    "X.columns = [i.replace('_temp_k', '_temp_c') \n",
    "                           for i in X.columns if i.find('_temp_k')]\n",
    "X.fillna(method='ffill',inplace=True)\n",
    "def extract_month(s):\n",
    "    return int(s[5:7])\n",
    "def pre_process(X, train = True):\n",
    "    months = X.week_start_date.apply(extract_month)\n",
    "    X.drop(['city', 'year', 'weekofyear', 'week_start_date'], axis=1, inplace=True)\n",
    "    sliced_months = months.loc[X.index]\n",
    "    #month_features = pd.get_dummies(sliced_months)\n",
    "    #X = X.join(month_features)\n",
    "    X = X.join(sliced_months)\n",
    "    \n",
    "    return X\n",
    "X = pre_process(X)\n",
    "X=X.iloc[:,4:]\n",
    "y = y.total_cases.loc[X.index]\n",
    "y=y.values\n"
   ]
  },
  {
   "cell_type": "code",
   "execution_count": 10,
   "metadata": {},
   "outputs": [
    {
     "name": "stdout",
     "output_type": "stream",
     "text": [
      "['station_avg_temp_c', 'reanalysis_specific_humidity_g_per_kg', 'reanalysis_relative_humidity_percent', 'reanalysis_dew_point_temp_c', 'reanalysis_avg_temp_c', 'reanalysis_max_air_temp_c', 'week_start_date', 'station_diur_temp_rng_c', 'reanalysis_air_temp_c', 'station_min_temp_c', 'reanalysis_tdtr_k', 'reanalysis_min_air_temp_c']\n"
     ]
    }
   ],
   "source": [
    "\n",
    "def cor_selector(X, y,num_feats):\n",
    "    cor_list = []\n",
    "    feature_name = X.columns.tolist()\n",
    "    # calculate the correlation with y for each feature\n",
    "    for i in X.columns.tolist():\n",
    "        cor = np.corrcoef(X[i], y)[0, 1]\n",
    "        cor_list.append(cor)\n",
    "    # replace NaN with 0\n",
    "    cor_list = [0 if np.isnan(i) else i for i in cor_list]\n",
    "    # feature name\n",
    "    cor_feature = X.iloc[:,np.argsort(np.abs(cor_list))[-num_feats:]].columns.tolist()\n",
    "    # feature selection? 0 for not select, 1 for select\n",
    "    cor_support = [True if i in cor_feature else False for i in feature_name]\n",
    "    return cor_support, cor_feature\n",
    "cor_support, cor_feature = cor_selector(X, y,num_feats=12)\n",
    "print(cor_feature)"
   ]
  },
  {
   "cell_type": "code",
   "execution_count": 11,
   "metadata": {},
   "outputs": [
    {
     "name": "stdout",
     "output_type": "stream",
     "text": [
      "Index(['reanalysis_air_temp_c', 'reanalysis_dew_point_temp_c',\n",
      "       'reanalysis_min_air_temp_c', 'reanalysis_precip_amt_kg_per_m2',\n",
      "       'reanalysis_relative_humidity_percent',\n",
      "       'reanalysis_specific_humidity_g_per_kg', 'reanalysis_tdtr_k',\n",
      "       'station_avg_temp_c', 'station_max_temp_c', 'station_min_temp_c',\n",
      "       'station_precip_mm', 'week_start_date'],\n",
      "      dtype='object')\n",
      "8.974285714285715\n",
      "242.64285714285714\n",
      "15.576997693485646\n"
     ]
    },
    {
     "name": "stderr",
     "output_type": "stream",
     "text": [
      "C:\\Users\\Akhila\\anaconda3\\lib\\site-packages\\sklearn\\utils\\validation.py:68: FutureWarning: Pass n_features_to_select=12 as keyword args. From version 0.25 passing these as positional arguments will result in an error\n",
      "  warnings.warn(\"Pass {} as keyword args. From version 0.25 \"\n"
     ]
    },
    {
     "data": {
      "text/plain": [
       "\"import matplotlib.pyplot as plt\\nplt.plot(Y_test)\\nplt.plot(Y_pred,color='green')\""
      ]
     },
     "execution_count": 11,
     "metadata": {},
     "output_type": "execute_result"
    }
   ],
   "source": [
    "from sklearn.feature_selection import RFE\n",
    "from sklearn.linear_model import Ridge,Lasso\n",
    "from sklearn.ensemble import RandomForestRegressor,AdaBoostRegressor\n",
    "# create a base classifier used to evaluate a subset of attributes\n",
    "model = DecisionTreeRegressor()\n",
    "\n",
    "# create the RFE model and select n attributes\n",
    "rfe = RFE(model, 12)\n",
    "rfe = rfe.fit(X, y)\n",
    "X_Select = X.loc[:, rfe.support_]\n",
    "print(X_Select.columns)\n",
    "# Split based on the newly selected features and train and test again\n",
    "X_train, X_test, Y_train, Y_test = train_test_split(X_Select, y,train_size=0.76,shuffle=False)\n",
    "model.fit(X_train, Y_train)\n",
    "Y_pred = model.predict(X_test)\n",
    "\n",
    "print(mean_absolute_error(Y_test, Y_pred))\n",
    "print(mean_squared_error(Y_test, Y_pred))\n",
    "print(float(format(np.sqrt(mean_squared_error(Y_test, Y_pred)))))\n",
    "\"\"\"import matplotlib.pyplot as plt\n",
    "plt.plot(Y_test)\n",
    "plt.plot(Y_pred,color='green')\"\"\""
   ]
  },
  {
   "cell_type": "code",
   "execution_count": null,
   "metadata": {},
   "outputs": [],
   "source": []
  },
  {
   "cell_type": "code",
   "execution_count": 12,
   "metadata": {},
   "outputs": [],
   "source": [
    "lst=[] \n",
    "for i in cor_feature:\n",
    "    if i in X_Select.columns:\n",
    "        lst.append(i)"
   ]
  },
  {
   "cell_type": "code",
   "execution_count": 13,
   "metadata": {},
   "outputs": [
    {
     "data": {
      "text/plain": [
       "['station_avg_temp_c',\n",
       " 'reanalysis_specific_humidity_g_per_kg',\n",
       " 'reanalysis_relative_humidity_percent',\n",
       " 'reanalysis_dew_point_temp_c',\n",
       " 'week_start_date',\n",
       " 'reanalysis_air_temp_c',\n",
       " 'station_min_temp_c',\n",
       " 'reanalysis_tdtr_k',\n",
       " 'reanalysis_min_air_temp_c']"
      ]
     },
     "execution_count": 13,
     "metadata": {},
     "output_type": "execute_result"
    }
   ],
   "source": [
    "lst"
   ]
  },
  {
   "cell_type": "code",
   "execution_count": 14,
   "metadata": {},
   "outputs": [
    {
     "data": {
      "text/plain": [
       "9"
      ]
     },
     "execution_count": 14,
     "metadata": {},
     "output_type": "execute_result"
    }
   ],
   "source": [
    "len(lst)"
   ]
  },
  {
   "cell_type": "code",
   "execution_count": 15,
   "metadata": {},
   "outputs": [],
   "source": [
    "X = X[lst]"
   ]
  },
  {
   "cell_type": "code",
   "execution_count": 16,
   "metadata": {},
   "outputs": [],
   "source": [
    "X_train, X_test, Y_train, Y_test = train_test_split(X, y,train_size=0.85,shuffle=False)\n"
   ]
  },
  {
   "cell_type": "code",
   "execution_count": 17,
   "metadata": {},
   "outputs": [
    {
     "name": "stdout",
     "output_type": "stream",
     "text": [
      "6.9365239931670795\n",
      "10.416323326939885\n"
     ]
    }
   ],
   "source": [
    "from sklearn.svm import SVR\n",
    "from sklearn.ensemble import GradientBoostingRegressor,BaggingRegressor\n",
    "d = SVR()\n",
    "d.fit(X_train, Y_train)\n",
    "y_svr_pred = d.predict(X_test)\n",
    "print(mean_absolute_error(Y_test, y_svr_pred))\n",
    "print(float(format(np.sqrt(mean_squared_error(Y_test, y_svr_pred)))))"
   ]
  },
  {
   "cell_type": "code",
   "execution_count": 18,
   "metadata": {},
   "outputs": [
    {
     "name": "stdout",
     "output_type": "stream",
     "text": [
      "6.9365239931670795\n",
      "10.416323326939885\n"
     ]
    }
   ],
   "source": [
    "from sklearn.neighbors import KNeighborsRegressor\n",
    "dg_knn = RandomForestRegressor()\n",
    "dg_knn.fit(X_train, Y_train)\n",
    "y_knn_pred = dg_knn.predict(X_test)\n",
    "print(mean_absolute_error(Y_test, y_svr_pred))\n",
    "print(float(format(np.sqrt(mean_squared_error(Y_test, y_svr_pred)))))"
   ]
  },
  {
   "cell_type": "code",
   "execution_count": 19,
   "metadata": {},
   "outputs": [
    {
     "name": "stdout",
     "output_type": "stream",
     "text": [
      "9.575342465753424\n",
      "16.65017448864375\n"
     ]
    }
   ],
   "source": [
    "from sklearn.tree import DecisionTreeRegressor\n",
    "dg =  DecisionTreeRegressor()\n",
    "dg.fit(X_train, Y_train)\n",
    "y_dg_pred = dg.predict(X_test)\n",
    "print(mean_absolute_error(Y_test, y_dg_pred))\n",
    "print(float(format(np.sqrt(mean_squared_error(Y_test, y_dg_pred)))))"
   ]
  },
  {
   "cell_type": "code",
   "execution_count": 20,
   "metadata": {},
   "outputs": [
    {
     "name": "stdout",
     "output_type": "stream",
     "text": [
      "7.6908675799086765\n",
      "12.750988859495456\n"
     ]
    }
   ],
   "source": [
    "dg = BaggingRegressor()\n",
    "dg.fit(X_train, Y_train)\n",
    "y_dg_pred = dg.predict(X_test)\n",
    "print(mean_absolute_error(Y_test, y_dg_pred))\n",
    "print(float(format(np.sqrt(mean_squared_error(Y_test, y_dg_pred)))))"
   ]
  },
  {
   "cell_type": "code",
   "execution_count": 21,
   "metadata": {},
   "outputs": [],
   "source": [
    "import pickle\n",
    "# Saving model to disk\n",
    "pickle.dump(d, open('model.pkl','wb'))\n",
    "\n"
   ]
  },
  {
   "cell_type": "code",
   "execution_count": 22,
   "metadata": {},
   "outputs": [
    {
     "data": {
      "text/plain": [
       "'from sklearn.linear_model import LassoCV,RidgeCV\\nfrom sklearn.model_selection import GridSearchCV\\nmodels  = {\\'rf\\': [RandomForestRegressor(), {\\'n_estimators\\' : [31,32,33,34,35], \\'max_depth\\' : [18,19,20,21]}],\\n         \\'bag\\': [BaggingRegressor(), {\\'n_estimators\\' : [14,15,16,17]}],\\n         \\'ada\\': [AdaBoostRegressor(), {\\'n_estimators\\' : [45,50,55]}],\\n         \\'knn\\': [KNeighborsRegressor(), {\\'n_neighbors\\': [9,10,11]}],\\n         \\'lg\\': [LassoCV(), {\\'alphas\\': [np.linspace(1, 10, 1000)]}],\\n         \\'ridge\\' : [RidgeCV(), {\"alphas\": [np.logspace(0,5,200)]}]\\n            }\\n\\nfor i, j in models.items():\\n    gs = GridSearchCV(j[0], j[1])\\n    gs.fit(X_train, Y_train)\\n    y_pred = gs.predict(X_test)\\n    print(i, mean_absolute_error(Y_test, y_pred))\\n'"
      ]
     },
     "execution_count": 22,
     "metadata": {},
     "output_type": "execute_result"
    }
   ],
   "source": [
    "\"\"\"from sklearn.linear_model import LassoCV,RidgeCV\n",
    "from sklearn.model_selection import GridSearchCV\n",
    "models  = {'rf': [RandomForestRegressor(), {'n_estimators' : [31,32,33,34,35], 'max_depth' : [18,19,20,21]}],\n",
    "         'bag': [BaggingRegressor(), {'n_estimators' : [14,15,16,17]}],\n",
    "         'ada': [AdaBoostRegressor(), {'n_estimators' : [45,50,55]}],\n",
    "         'knn': [KNeighborsRegressor(), {'n_neighbors': [9,10,11]}],\n",
    "         'lg': [LassoCV(), {'alphas': [np.linspace(1, 10, 1000)]}],\n",
    "         'ridge' : [RidgeCV(), {\"alphas\": [np.logspace(0,5,200)]}]\n",
    "            }\n",
    "\n",
    "for i, j in models.items():\n",
    "    gs = GridSearchCV(j[0], j[1])\n",
    "    gs.fit(X_train, Y_train)\n",
    "    y_pred = gs.predict(X_test)\n",
    "    print(i, mean_absolute_error(Y_test, y_pred))\n",
    "\"\"\""
   ]
  },
  {
   "cell_type": "code",
   "execution_count": null,
   "metadata": {},
   "outputs": [],
   "source": []
  },
  {
   "cell_type": "code",
   "execution_count": null,
   "metadata": {},
   "outputs": [],
   "source": []
  }
 ],
 "metadata": {
  "kernelspec": {
   "display_name": "Python 3",
   "language": "python",
   "name": "python3"
  },
  "language_info": {
   "codemirror_mode": {
    "name": "ipython",
    "version": 3
   },
   "file_extension": ".py",
   "mimetype": "text/x-python",
   "name": "python",
   "nbconvert_exporter": "python",
   "pygments_lexer": "ipython3",
   "version": "3.8.3"
  }
 },
 "nbformat": 4,
 "nbformat_minor": 4
}
