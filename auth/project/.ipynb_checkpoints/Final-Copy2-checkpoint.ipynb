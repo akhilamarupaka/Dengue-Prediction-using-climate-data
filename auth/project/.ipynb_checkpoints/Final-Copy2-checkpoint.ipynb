{
 "cells": [
  {
   "cell_type": "code",
   "execution_count": 1,
   "metadata": {},
   "outputs": [],
   "source": [
    "import pandas as pd\n",
    "import numpy as np\n",
    "\n",
    "import matplotlib.pyplot as plt\n",
    "import seaborn as sns\n",
    "\n",
    "from sklearn.model_selection import train_test_split\n",
    "from sklearn.linear_model import LinearRegression\n",
    "from sklearn import linear_model\n",
    "\n",
    "from sklearn.metrics import mean_absolute_error\n",
    "from sklearn.metrics import mean_squared_error\n",
    "\n",
    "from sklearn.preprocessing import StandardScaler\n",
    "from sklearn.tree import DecisionTreeRegressor\n",
    "X = pd.read_csv(r\"C:\\Users\\Akhila\\Desktop\\mini project\\dengue_features_train.csv\")\n",
    "y = pd.read_csv(r\"C:\\Users\\Akhila\\Desktop\\mini project\\dengue_labels_train.csv\")\n",
    "temperature_kelvin_columns = [i for i in X.columns if i.find('_temp_k') > -1]\n",
    "for i in temperature_kelvin_columns:\n",
    "    X[i] = X[i] - 273.15\n",
    "# Changing the column names from _temp_k to _temp_c\n",
    "X.columns = [i.replace('_temp_k', '_temp_c') \n",
    "                           for i in X.columns if i.find('_temp_k')]\n",
    "X.fillna(method='ffill',inplace=True)\n",
    "def extract_month(s):\n",
    "    return int(s[5:7])\n",
    "def pre_process(X, train = True):\n",
    "    months = X.week_start_date.apply(extract_month)\n",
    "    X.drop(['year', 'weekofyear', 'week_start_date'], axis=1, inplace=True)\n",
    "    sliced_months = months.loc[X.index]\n",
    "    #month_features = pd.get_dummies(sliced_months)\n",
    "    #X = X.join(month_features)\n",
    "    X = X.join(sliced_months)\n",
    "    \n",
    "    return X\n",
    "X = pre_process(X)\n",
    "X=X.iloc[:,4:]\n",
    "y = y.total_cases.loc[X.index]\n",
    "y=y.values\n"
   ]
  },
  {
   "cell_type": "code",
   "execution_count": 2,
   "metadata": {},
   "outputs": [
    {
     "name": "stdout",
     "output_type": "stream",
     "text": [
      "['station_avg_temp_c', 'reanalysis_specific_humidity_g_per_kg', 'reanalysis_relative_humidity_percent', 'reanalysis_dew_point_temp_c', 'reanalysis_avg_temp_c', 'reanalysis_max_air_temp_c', 'station_diur_temp_rng_c', 'reanalysis_air_temp_c', 'station_min_temp_c', 'reanalysis_tdtr_k', 'reanalysis_min_air_temp_c', 'week_start_date']\n"
     ]
    }
   ],
   "source": [
    "\n",
    "def cor_selector(X, y,num_feats):\n",
    "    cor_list = []\n",
    "    feature_name = X.columns.tolist()\n",
    "    # calculate the correlation with y for each feature\n",
    "    for i in X.columns.tolist():\n",
    "        cor = np.corrcoef(X[i], y)[0, 1]\n",
    "        cor_list.append(cor)\n",
    "    # replace NaN with 0\n",
    "    cor_list = [0 if np.isnan(i) else i for i in cor_list]\n",
    "    # feature name\n",
    "    cor_feature = X.iloc[:,np.argsort(np.abs(cor_list))[-num_feats:]].columns.tolist()\n",
    "    # feature selection? 0 for not select, 1 for select\n",
    "    cor_support = [True if i in cor_feature else False for i in feature_name]\n",
    "    return cor_support, cor_feature\n",
    "cor_support, cor_feature = cor_selector(X, y,num_feats=12)\n",
    "print(cor_feature)"
   ]
  },
  {
   "cell_type": "code",
   "execution_count": 3,
   "metadata": {},
   "outputs": [
    {
     "name": "stderr",
     "output_type": "stream",
     "text": [
      "C:\\Users\\Akhila\\anaconda3\\lib\\site-packages\\sklearn\\utils\\validation.py:68: FutureWarning: Pass n_features_to_select=8 as keyword args. From version 0.25 passing these as positional arguments will result in an error\n",
      "  warnings.warn(\"Pass {} as keyword args. From version 0.25 \"\n"
     ]
    },
    {
     "name": "stdout",
     "output_type": "stream",
     "text": [
      "Index(['reanalysis_air_temp_c', 'reanalysis_max_air_temp_c',\n",
      "       'reanalysis_precip_amt_kg_per_m2',\n",
      "       'reanalysis_relative_humidity_percent',\n",
      "       'reanalysis_specific_humidity_g_per_kg', 'reanalysis_tdtr_k',\n",
      "       'station_precip_mm', 'week_start_date'],\n",
      "      dtype='object')\n",
      "7.8621281500572735\n",
      "253.84703019329268\n",
      "15.932577638075161\n"
     ]
    },
    {
     "data": {
      "text/plain": [
       "\"import matplotlib.pyplot as plt\\nplt.plot(Y_test)\\nplt.plot(Y_pred,color='green')\""
      ]
     },
     "execution_count": 3,
     "metadata": {},
     "output_type": "execute_result"
    }
   ],
   "source": [
    "from sklearn.feature_selection import RFE\n",
    "from sklearn.linear_model import Ridge,Lasso\n",
    "from sklearn.ensemble import RandomForestRegressor,AdaBoostRegressor\n",
    "# create a base classifier used to evaluate a subset of attributes\n",
    "model = RandomForestRegressor()\n",
    "\n",
    "# create the RFE model and select n attributes\n",
    "rfe = RFE(model, 8)\n",
    "rfe = rfe.fit(X, y)\n",
    "X_Select = X.loc[:, rfe.support_]\n",
    "print(X_Select.columns)\n",
    "X_select=X[X_Select.columns]\n",
    "X_train, X_test= X_select[:int(len(y)*0.8)], X_select[:int(len(y)*0.8)]\n",
    "Y_train, Y_test = y[:int(len(y)*0.8)], y[:int(len(y)*0.8)]\n",
    "\n",
    "model.fit(X_train, Y_train)\n",
    "Y_pred = model.predict(X_test)\n",
    "\n",
    "print(mean_absolute_error(Y_test, Y_pred))\n",
    "print(mean_squared_error(Y_test, Y_pred))\n",
    "print(float(format(np.sqrt(mean_squared_error(Y_test, Y_pred)))))\n",
    "\"\"\"import matplotlib.pyplot as plt\n",
    "plt.plot(Y_test)\n",
    "plt.plot(Y_pred,color='green')\"\"\""
   ]
  },
  {
   "cell_type": "code",
   "execution_count": 4,
   "metadata": {},
   "outputs": [
    {
     "data": {
      "text/plain": [
       "0.887840619041984"
      ]
     },
     "execution_count": 4,
     "metadata": {},
     "output_type": "execute_result"
    }
   ],
   "source": [
    "from sklearn.metrics import r2_score\n",
    "r2_score(Y_test,Y_pred)"
   ]
  },
  {
   "cell_type": "code",
   "execution_count": 5,
   "metadata": {},
   "outputs": [],
   "source": [
    "lst=[] \n",
    "for i in cor_feature:\n",
    "    if i in X_Select.columns:\n",
    "        lst.append(i)"
   ]
  },
  {
   "cell_type": "code",
   "execution_count": 6,
   "metadata": {},
   "outputs": [
    {
     "data": {
      "text/plain": [
       "6"
      ]
     },
     "execution_count": 6,
     "metadata": {},
     "output_type": "execute_result"
    }
   ],
   "source": [
    "len(lst)"
   ]
  },
  {
   "cell_type": "code",
   "execution_count": 7,
   "metadata": {},
   "outputs": [
    {
     "data": {
      "text/plain": [
       "['reanalysis_specific_humidity_g_per_kg',\n",
       " 'reanalysis_relative_humidity_percent',\n",
       " 'reanalysis_max_air_temp_c',\n",
       " 'reanalysis_air_temp_c',\n",
       " 'reanalysis_tdtr_k',\n",
       " 'week_start_date']"
      ]
     },
     "execution_count": 7,
     "metadata": {},
     "output_type": "execute_result"
    }
   ],
   "source": [
    "lst"
   ]
  },
  {
   "cell_type": "code",
   "execution_count": 8,
   "metadata": {},
   "outputs": [],
   "source": [
    "lst=['reanalysis_air_temp_c','station_avg_temp_c','reanalysis_dew_point_temp_c','reanalysis_relative_humidity_percent',\n",
    "     'reanalysis_max_air_temp_c','reanalysis_tdtr_k','reanalysis_min_air_temp_c', 'week_start_date'\n",
    " ]"
   ]
  },
  {
   "cell_type": "code",
   "execution_count": 9,
   "metadata": {},
   "outputs": [
    {
     "data": {
      "text/plain": [
       "8"
      ]
     },
     "execution_count": 9,
     "metadata": {},
     "output_type": "execute_result"
    }
   ],
   "source": [
    "len(lst)"
   ]
  },
  {
   "cell_type": "code",
   "execution_count": 10,
   "metadata": {},
   "outputs": [],
   "source": [
    "X = X[lst]"
   ]
  },
  {
   "cell_type": "code",
   "execution_count": 11,
   "metadata": {},
   "outputs": [
    {
     "data": {
      "text/html": [
       "<div>\n",
       "<style scoped>\n",
       "    .dataframe tbody tr th:only-of-type {\n",
       "        vertical-align: middle;\n",
       "    }\n",
       "\n",
       "    .dataframe tbody tr th {\n",
       "        vertical-align: top;\n",
       "    }\n",
       "\n",
       "    .dataframe thead th {\n",
       "        text-align: right;\n",
       "    }\n",
       "</style>\n",
       "<table border=\"1\" class=\"dataframe\">\n",
       "  <thead>\n",
       "    <tr style=\"text-align: right;\">\n",
       "      <th></th>\n",
       "      <th>reanalysis_air_temp_c</th>\n",
       "      <th>station_avg_temp_c</th>\n",
       "      <th>reanalysis_dew_point_temp_c</th>\n",
       "      <th>reanalysis_relative_humidity_percent</th>\n",
       "      <th>reanalysis_max_air_temp_c</th>\n",
       "      <th>reanalysis_tdtr_k</th>\n",
       "      <th>reanalysis_min_air_temp_c</th>\n",
       "      <th>week_start_date</th>\n",
       "    </tr>\n",
       "  </thead>\n",
       "  <tbody>\n",
       "    <tr>\n",
       "      <th>0</th>\n",
       "      <td>24.422857</td>\n",
       "      <td>25.442857</td>\n",
       "      <td>19.264286</td>\n",
       "      <td>73.365714</td>\n",
       "      <td>26.65</td>\n",
       "      <td>2.628571</td>\n",
       "      <td>22.75</td>\n",
       "      <td>-1</td>\n",
       "    </tr>\n",
       "    <tr>\n",
       "      <th>1</th>\n",
       "      <td>25.061429</td>\n",
       "      <td>26.714286</td>\n",
       "      <td>20.801429</td>\n",
       "      <td>77.368571</td>\n",
       "      <td>27.75</td>\n",
       "      <td>2.371429</td>\n",
       "      <td>23.25</td>\n",
       "      <td>-1</td>\n",
       "    </tr>\n",
       "    <tr>\n",
       "      <th>2</th>\n",
       "      <td>25.631429</td>\n",
       "      <td>26.714286</td>\n",
       "      <td>22.284286</td>\n",
       "      <td>82.052857</td>\n",
       "      <td>27.35</td>\n",
       "      <td>2.300000</td>\n",
       "      <td>24.15</td>\n",
       "      <td>-1</td>\n",
       "    </tr>\n",
       "    <tr>\n",
       "      <th>3</th>\n",
       "      <td>25.837143</td>\n",
       "      <td>27.471429</td>\n",
       "      <td>22.160000</td>\n",
       "      <td>80.337143</td>\n",
       "      <td>28.25</td>\n",
       "      <td>2.428571</td>\n",
       "      <td>23.85</td>\n",
       "      <td>-1</td>\n",
       "    </tr>\n",
       "    <tr>\n",
       "      <th>4</th>\n",
       "      <td>26.368571</td>\n",
       "      <td>28.942857</td>\n",
       "      <td>22.671429</td>\n",
       "      <td>80.460000</td>\n",
       "      <td>28.75</td>\n",
       "      <td>3.014286</td>\n",
       "      <td>24.35</td>\n",
       "      <td>-1</td>\n",
       "    </tr>\n",
       "    <tr>\n",
       "      <th>...</th>\n",
       "      <td>...</td>\n",
       "      <td>...</td>\n",
       "      <td>...</td>\n",
       "      <td>...</td>\n",
       "      <td>...</td>\n",
       "      <td>...</td>\n",
       "      <td>...</td>\n",
       "      <td>...</td>\n",
       "    </tr>\n",
       "    <tr>\n",
       "      <th>1451</th>\n",
       "      <td>26.184286</td>\n",
       "      <td>28.633333</td>\n",
       "      <td>23.675714</td>\n",
       "      <td>88.765714</td>\n",
       "      <td>36.55</td>\n",
       "      <td>9.800000</td>\n",
       "      <td>21.35</td>\n",
       "      <td>-2</td>\n",
       "    </tr>\n",
       "    <tr>\n",
       "      <th>1452</th>\n",
       "      <td>25.180000</td>\n",
       "      <td>27.433333</td>\n",
       "      <td>23.302857</td>\n",
       "      <td>91.600000</td>\n",
       "      <td>35.35</td>\n",
       "      <td>7.471429</td>\n",
       "      <td>18.75</td>\n",
       "      <td>-2</td>\n",
       "    </tr>\n",
       "    <tr>\n",
       "      <th>1453</th>\n",
       "      <td>23.448571</td>\n",
       "      <td>24.400000</td>\n",
       "      <td>22.351429</td>\n",
       "      <td>94.280000</td>\n",
       "      <td>32.35</td>\n",
       "      <td>7.500000</td>\n",
       "      <td>19.25</td>\n",
       "      <td>-2</td>\n",
       "    </tr>\n",
       "    <tr>\n",
       "      <th>1454</th>\n",
       "      <td>23.195714</td>\n",
       "      <td>25.433333</td>\n",
       "      <td>22.174286</td>\n",
       "      <td>94.660000</td>\n",
       "      <td>32.95</td>\n",
       "      <td>7.871429</td>\n",
       "      <td>18.75</td>\n",
       "      <td>-2</td>\n",
       "    </tr>\n",
       "    <tr>\n",
       "      <th>1455</th>\n",
       "      <td>24.947143</td>\n",
       "      <td>27.475000</td>\n",
       "      <td>22.657143</td>\n",
       "      <td>89.082857</td>\n",
       "      <td>34.65</td>\n",
       "      <td>11.014286</td>\n",
       "      <td>19.15</td>\n",
       "      <td>-2</td>\n",
       "    </tr>\n",
       "  </tbody>\n",
       "</table>\n",
       "<p>1456 rows × 8 columns</p>\n",
       "</div>"
      ],
      "text/plain": [
       "      reanalysis_air_temp_c  station_avg_temp_c  reanalysis_dew_point_temp_c  \\\n",
       "0                 24.422857           25.442857                    19.264286   \n",
       "1                 25.061429           26.714286                    20.801429   \n",
       "2                 25.631429           26.714286                    22.284286   \n",
       "3                 25.837143           27.471429                    22.160000   \n",
       "4                 26.368571           28.942857                    22.671429   \n",
       "...                     ...                 ...                          ...   \n",
       "1451              26.184286           28.633333                    23.675714   \n",
       "1452              25.180000           27.433333                    23.302857   \n",
       "1453              23.448571           24.400000                    22.351429   \n",
       "1454              23.195714           25.433333                    22.174286   \n",
       "1455              24.947143           27.475000                    22.657143   \n",
       "\n",
       "      reanalysis_relative_humidity_percent  reanalysis_max_air_temp_c  \\\n",
       "0                                73.365714                      26.65   \n",
       "1                                77.368571                      27.75   \n",
       "2                                82.052857                      27.35   \n",
       "3                                80.337143                      28.25   \n",
       "4                                80.460000                      28.75   \n",
       "...                                    ...                        ...   \n",
       "1451                             88.765714                      36.55   \n",
       "1452                             91.600000                      35.35   \n",
       "1453                             94.280000                      32.35   \n",
       "1454                             94.660000                      32.95   \n",
       "1455                             89.082857                      34.65   \n",
       "\n",
       "      reanalysis_tdtr_k  reanalysis_min_air_temp_c  week_start_date  \n",
       "0              2.628571                      22.75               -1  \n",
       "1              2.371429                      23.25               -1  \n",
       "2              2.300000                      24.15               -1  \n",
       "3              2.428571                      23.85               -1  \n",
       "4              3.014286                      24.35               -1  \n",
       "...                 ...                        ...              ...  \n",
       "1451           9.800000                      21.35               -2  \n",
       "1452           7.471429                      18.75               -2  \n",
       "1453           7.500000                      19.25               -2  \n",
       "1454           7.871429                      18.75               -2  \n",
       "1455          11.014286                      19.15               -2  \n",
       "\n",
       "[1456 rows x 8 columns]"
      ]
     },
     "execution_count": 11,
     "metadata": {},
     "output_type": "execute_result"
    }
   ],
   "source": [
    "X"
   ]
  },
  {
   "cell_type": "code",
   "execution_count": 12,
   "metadata": {},
   "outputs": [],
   "source": [
    "X_train, X_test= X_Select[:int(len(y)*0.8)], X_select[:int(len(y)*0.8)]\n",
    "Y_train, Y_test = y[:int(len(y)*0.8)], y[:int(len(y)*0.8)]"
   ]
  },
  {
   "cell_type": "code",
   "execution_count": 13,
   "metadata": {},
   "outputs": [
    {
     "name": "stdout",
     "output_type": "stream",
     "text": [
      "21.54790453330634\n",
      "48.91851185598722\n"
     ]
    }
   ],
   "source": [
    "from sklearn.svm import SVR\n",
    "from sklearn.ensemble import GradientBoostingRegressor,BaggingRegressor\n",
    "d = SVR()\n",
    "d.fit(X_train, Y_train)\n",
    "y_svr_pred = d.predict(X_test)\n",
    "print(mean_absolute_error(Y_test, y_svr_pred))\n",
    "print(float(format(np.sqrt(mean_squared_error(Y_test, y_svr_pred)))))"
   ]
  },
  {
   "cell_type": "code",
   "execution_count": 14,
   "metadata": {},
   "outputs": [
    {
     "data": {
      "text/plain": [
       "-0.05732862657688842"
      ]
     },
     "execution_count": 14,
     "metadata": {},
     "output_type": "execute_result"
    }
   ],
   "source": [
    "from sklearn.metrics import r2_score\n",
    "r2_score(Y_test,y_svr_pred)"
   ]
  },
  {
   "cell_type": "code",
   "execution_count": 15,
   "metadata": {},
   "outputs": [
    {
     "name": "stdout",
     "output_type": "stream",
     "text": [
      "22.192439862542955\n",
      "41.241398145094436\n"
     ]
    }
   ],
   "source": [
    "from sklearn.neighbors import KNeighborsRegressor\n",
    "dg_knn = KNeighborsRegressor()\n",
    "dg_knn.fit(X_train, Y_train)\n",
    "y_knn_pred = dg_knn.predict(X_test)\n",
    "print(mean_absolute_error(Y_test, y_knn_pred))\n",
    "print(float(format(np.sqrt(mean_squared_error(Y_test, y_knn_pred)))))"
   ]
  },
  {
   "cell_type": "code",
   "execution_count": 16,
   "metadata": {},
   "outputs": [
    {
     "data": {
      "text/plain": [
       "0.24849776430122628"
      ]
     },
     "execution_count": 16,
     "metadata": {},
     "output_type": "execute_result"
    }
   ],
   "source": [
    "from sklearn.metrics import r2_score\n",
    "r2_score(Y_test,y_knn_pred)"
   ]
  },
  {
   "cell_type": "code",
   "execution_count": 17,
   "metadata": {},
   "outputs": [
    {
     "name": "stdout",
     "output_type": "stream",
     "text": [
      "0.03006872852233677\n",
      "0.3411875359797069\n"
     ]
    }
   ],
   "source": [
    "from sklearn.tree import DecisionTreeRegressor\n",
    "dg =  DecisionTreeRegressor()\n",
    "dg.fit(X_train, Y_train)\n",
    "y_dg_pred = dg.predict(X_test)\n",
    "print(mean_absolute_error(Y_test, y_dg_pred))\n",
    "print(float(format(np.sqrt(mean_squared_error(Y_test, y_dg_pred)))))"
   ]
  },
  {
   "cell_type": "code",
   "execution_count": 18,
   "metadata": {},
   "outputs": [
    {
     "data": {
      "text/plain": [
       "array([ 4,  5,  4, ...,  6, 22, 37], dtype=int64)"
      ]
     },
     "execution_count": 18,
     "metadata": {},
     "output_type": "execute_result"
    }
   ],
   "source": [
    "Y_test\n"
   ]
  },
  {
   "cell_type": "code",
   "execution_count": 19,
   "metadata": {},
   "outputs": [
    {
     "data": {
      "text/plain": [
       "array([ 4.,  5.,  4., ...,  6., 22., 37.])"
      ]
     },
     "execution_count": 19,
     "metadata": {},
     "output_type": "execute_result"
    }
   ],
   "source": [
    "y_dg_pred"
   ]
  },
  {
   "cell_type": "code",
   "execution_count": 20,
   "metadata": {},
   "outputs": [
    {
     "data": {
      "text/plain": [
       "0.9999485660555301"
      ]
     },
     "execution_count": 20,
     "metadata": {},
     "output_type": "execute_result"
    }
   ],
   "source": [
    "from sklearn.metrics import r2_score\n",
    "r2_score(Y_test,y_dg_pred)"
   ]
  },
  {
   "cell_type": "code",
   "execution_count": 21,
   "metadata": {},
   "outputs": [],
   "source": [
    "X_tes = pd.read_csv(r\"C:\\Users\\Akhila\\Desktop\\mini project\\dengue_features_test.csv\")\n",
    "temperature_kelvin_columns = [i for i in X_tes.columns if i.find('_temp_k') > -1]\n",
    "for i in temperature_kelvin_columns:\n",
    "    X_tes[i] = X_tes[i] - 273.15\n",
    "# Changing the column names from _temp_k to _temp_c\n",
    "X_tes.columns = [i.replace('_temp_k', '_temp_c') \n",
    "                           for i in X_tes.columns if i.find('_temp_k')]\n",
    "X_tes = pre_process(X_tes)\n",
    "X_tes=X_tes[lst]\n",
    "X_tes.fillna(X_tes.mean(),inplace=True)\n",
    "final_pred=dg.predict(X_tes)\n",
    "final_pred=np.round(final_pred)\n",
    "sub=pd.read_csv(r\"C:\\Users\\Akhila\\Desktop\\mini project\\submission_format.csv\")\n",
    "sub['total_cases']=final_pred\n"
   ]
  },
  {
   "cell_type": "code",
   "execution_count": 22,
   "metadata": {},
   "outputs": [],
   "source": [
    "sub['total_cases']=sub['total_cases'].astype('int64')\n",
    "sub.to_csv(r'C:\\Users\\Akhila\\Desktop\\mini project\\submission_format.csv', index = False)"
   ]
  },
  {
   "cell_type": "code",
   "execution_count": 23,
   "metadata": {},
   "outputs": [
    {
     "data": {
      "text/html": [
       "<div>\n",
       "<style scoped>\n",
       "    .dataframe tbody tr th:only-of-type {\n",
       "        vertical-align: middle;\n",
       "    }\n",
       "\n",
       "    .dataframe tbody tr th {\n",
       "        vertical-align: top;\n",
       "    }\n",
       "\n",
       "    .dataframe thead th {\n",
       "        text-align: right;\n",
       "    }\n",
       "</style>\n",
       "<table border=\"1\" class=\"dataframe\">\n",
       "  <thead>\n",
       "    <tr style=\"text-align: right;\">\n",
       "      <th></th>\n",
       "      <th>city</th>\n",
       "      <th>year</th>\n",
       "      <th>weekofyear</th>\n",
       "      <th>total_cases</th>\n",
       "    </tr>\n",
       "  </thead>\n",
       "  <tbody>\n",
       "    <tr>\n",
       "      <th>0</th>\n",
       "      <td>sj</td>\n",
       "      <td>2008</td>\n",
       "      <td>18</td>\n",
       "      <td>37</td>\n",
       "    </tr>\n",
       "    <tr>\n",
       "      <th>1</th>\n",
       "      <td>sj</td>\n",
       "      <td>2008</td>\n",
       "      <td>19</td>\n",
       "      <td>37</td>\n",
       "    </tr>\n",
       "    <tr>\n",
       "      <th>2</th>\n",
       "      <td>sj</td>\n",
       "      <td>2008</td>\n",
       "      <td>20</td>\n",
       "      <td>21</td>\n",
       "    </tr>\n",
       "    <tr>\n",
       "      <th>3</th>\n",
       "      <td>sj</td>\n",
       "      <td>2008</td>\n",
       "      <td>21</td>\n",
       "      <td>21</td>\n",
       "    </tr>\n",
       "    <tr>\n",
       "      <th>4</th>\n",
       "      <td>sj</td>\n",
       "      <td>2008</td>\n",
       "      <td>22</td>\n",
       "      <td>65</td>\n",
       "    </tr>\n",
       "    <tr>\n",
       "      <th>...</th>\n",
       "      <td>...</td>\n",
       "      <td>...</td>\n",
       "      <td>...</td>\n",
       "      <td>...</td>\n",
       "    </tr>\n",
       "    <tr>\n",
       "      <th>411</th>\n",
       "      <td>iq</td>\n",
       "      <td>2013</td>\n",
       "      <td>22</td>\n",
       "      <td>21</td>\n",
       "    </tr>\n",
       "    <tr>\n",
       "      <th>412</th>\n",
       "      <td>iq</td>\n",
       "      <td>2013</td>\n",
       "      <td>23</td>\n",
       "      <td>21</td>\n",
       "    </tr>\n",
       "    <tr>\n",
       "      <th>413</th>\n",
       "      <td>iq</td>\n",
       "      <td>2013</td>\n",
       "      <td>24</td>\n",
       "      <td>21</td>\n",
       "    </tr>\n",
       "    <tr>\n",
       "      <th>414</th>\n",
       "      <td>iq</td>\n",
       "      <td>2013</td>\n",
       "      <td>25</td>\n",
       "      <td>21</td>\n",
       "    </tr>\n",
       "    <tr>\n",
       "      <th>415</th>\n",
       "      <td>iq</td>\n",
       "      <td>2013</td>\n",
       "      <td>26</td>\n",
       "      <td>21</td>\n",
       "    </tr>\n",
       "  </tbody>\n",
       "</table>\n",
       "<p>416 rows × 4 columns</p>\n",
       "</div>"
      ],
      "text/plain": [
       "    city  year  weekofyear  total_cases\n",
       "0     sj  2008          18           37\n",
       "1     sj  2008          19           37\n",
       "2     sj  2008          20           21\n",
       "3     sj  2008          21           21\n",
       "4     sj  2008          22           65\n",
       "..   ...   ...         ...          ...\n",
       "411   iq  2013          22           21\n",
       "412   iq  2013          23           21\n",
       "413   iq  2013          24           21\n",
       "414   iq  2013          25           21\n",
       "415   iq  2013          26           21\n",
       "\n",
       "[416 rows x 4 columns]"
      ]
     },
     "execution_count": 23,
     "metadata": {},
     "output_type": "execute_result"
    }
   ],
   "source": [
    "sub"
   ]
  },
  {
   "cell_type": "code",
   "execution_count": 24,
   "metadata": {},
   "outputs": [
    {
     "name": "stdout",
     "output_type": "stream",
     "text": [
      "8.207671698576338\n",
      "17.10549400129514\n"
     ]
    }
   ],
   "source": [
    "bg = RandomForestRegressor()\n",
    "bg.fit(X_train, Y_train)\n",
    "y_bg_pred = bg.predict(X_test)\n",
    "print(mean_absolute_error(Y_test, y_bg_pred))\n",
    "print(float(format(np.sqrt(mean_squared_error(Y_test, y_bg_pred)))))"
   ]
  },
  {
   "cell_type": "code",
   "execution_count": 25,
   "metadata": {},
   "outputs": [
    {
     "data": {
      "text/plain": [
       "0.8707189833350031"
      ]
     },
     "execution_count": 25,
     "metadata": {},
     "output_type": "execute_result"
    }
   ],
   "source": [
    "from sklearn.metrics import r2_score\n",
    "r2_score(Y_test,y_bg_pred)"
   ]
  },
  {
   "cell_type": "code",
   "execution_count": 26,
   "metadata": {},
   "outputs": [],
   "source": [
    "X_tes = pd.read_csv(r\"C:\\Users\\Akhila\\Desktop\\mini project\\dengue_features_test.csv\")\n",
    "temperature_kelvin_columns = [i for i in X_tes.columns if i.find('_temp_k') > -1]\n",
    "for i in temperature_kelvin_columns:\n",
    "    X_tes[i] = X_tes[i] - 273.15\n",
    "# Changing the column names from _temp_k to _temp_c\n",
    "X_tes.columns = [i.replace('_temp_k', '_temp_c') \n",
    "                           for i in X_tes.columns if i.find('_temp_k')]\n",
    "X_tes = pre_process(X_tes)\n",
    "X_tes=X_tes[lst]\n",
    "X_tes.fillna(X_tes.mean(),inplace=True)\n",
    "final_pred=dg.predict(X_tes)\n",
    "final_pred=np.round(final_pred)\n",
    "sub=pd.read_csv(r\"C:\\Users\\Akhila\\Desktop\\mini project\\submission_format.csv\")\n",
    "sub['total_cases']=final_pred\n"
   ]
  },
  {
   "cell_type": "code",
   "execution_count": 27,
   "metadata": {},
   "outputs": [],
   "source": [
    "sub['total_cases']=sub['total_cases'].astype('int64')\n",
    "sub.to_csv(r'C:\\Users\\Akhila\\Desktop\\mini project\\submission_format.csv', index = False)"
   ]
  },
  {
   "cell_type": "code",
   "execution_count": 28,
   "metadata": {},
   "outputs": [
    {
     "data": {
      "text/html": [
       "<div>\n",
       "<style scoped>\n",
       "    .dataframe tbody tr th:only-of-type {\n",
       "        vertical-align: middle;\n",
       "    }\n",
       "\n",
       "    .dataframe tbody tr th {\n",
       "        vertical-align: top;\n",
       "    }\n",
       "\n",
       "    .dataframe thead th {\n",
       "        text-align: right;\n",
       "    }\n",
       "</style>\n",
       "<table border=\"1\" class=\"dataframe\">\n",
       "  <thead>\n",
       "    <tr style=\"text-align: right;\">\n",
       "      <th></th>\n",
       "      <th>city</th>\n",
       "      <th>year</th>\n",
       "      <th>weekofyear</th>\n",
       "      <th>total_cases</th>\n",
       "    </tr>\n",
       "  </thead>\n",
       "  <tbody>\n",
       "    <tr>\n",
       "      <th>0</th>\n",
       "      <td>sj</td>\n",
       "      <td>2008</td>\n",
       "      <td>18</td>\n",
       "      <td>37</td>\n",
       "    </tr>\n",
       "    <tr>\n",
       "      <th>1</th>\n",
       "      <td>sj</td>\n",
       "      <td>2008</td>\n",
       "      <td>19</td>\n",
       "      <td>37</td>\n",
       "    </tr>\n",
       "    <tr>\n",
       "      <th>2</th>\n",
       "      <td>sj</td>\n",
       "      <td>2008</td>\n",
       "      <td>20</td>\n",
       "      <td>21</td>\n",
       "    </tr>\n",
       "    <tr>\n",
       "      <th>3</th>\n",
       "      <td>sj</td>\n",
       "      <td>2008</td>\n",
       "      <td>21</td>\n",
       "      <td>21</td>\n",
       "    </tr>\n",
       "    <tr>\n",
       "      <th>4</th>\n",
       "      <td>sj</td>\n",
       "      <td>2008</td>\n",
       "      <td>22</td>\n",
       "      <td>65</td>\n",
       "    </tr>\n",
       "    <tr>\n",
       "      <th>...</th>\n",
       "      <td>...</td>\n",
       "      <td>...</td>\n",
       "      <td>...</td>\n",
       "      <td>...</td>\n",
       "    </tr>\n",
       "    <tr>\n",
       "      <th>411</th>\n",
       "      <td>iq</td>\n",
       "      <td>2013</td>\n",
       "      <td>22</td>\n",
       "      <td>21</td>\n",
       "    </tr>\n",
       "    <tr>\n",
       "      <th>412</th>\n",
       "      <td>iq</td>\n",
       "      <td>2013</td>\n",
       "      <td>23</td>\n",
       "      <td>21</td>\n",
       "    </tr>\n",
       "    <tr>\n",
       "      <th>413</th>\n",
       "      <td>iq</td>\n",
       "      <td>2013</td>\n",
       "      <td>24</td>\n",
       "      <td>21</td>\n",
       "    </tr>\n",
       "    <tr>\n",
       "      <th>414</th>\n",
       "      <td>iq</td>\n",
       "      <td>2013</td>\n",
       "      <td>25</td>\n",
       "      <td>21</td>\n",
       "    </tr>\n",
       "    <tr>\n",
       "      <th>415</th>\n",
       "      <td>iq</td>\n",
       "      <td>2013</td>\n",
       "      <td>26</td>\n",
       "      <td>21</td>\n",
       "    </tr>\n",
       "  </tbody>\n",
       "</table>\n",
       "<p>416 rows × 4 columns</p>\n",
       "</div>"
      ],
      "text/plain": [
       "    city  year  weekofyear  total_cases\n",
       "0     sj  2008          18           37\n",
       "1     sj  2008          19           37\n",
       "2     sj  2008          20           21\n",
       "3     sj  2008          21           21\n",
       "4     sj  2008          22           65\n",
       "..   ...   ...         ...          ...\n",
       "411   iq  2013          22           21\n",
       "412   iq  2013          23           21\n",
       "413   iq  2013          24           21\n",
       "414   iq  2013          25           21\n",
       "415   iq  2013          26           21\n",
       "\n",
       "[416 rows x 4 columns]"
      ]
     },
     "execution_count": 28,
     "metadata": {},
     "output_type": "execute_result"
    }
   ],
   "source": [
    "sub"
   ]
  },
  {
   "cell_type": "code",
   "execution_count": null,
   "metadata": {},
   "outputs": [],
   "source": []
  }
 ],
 "metadata": {
  "kernelspec": {
   "display_name": "Python 3",
   "language": "python",
   "name": "python3"
  },
  "language_info": {
   "codemirror_mode": {
    "name": "ipython",
    "version": 3
   },
   "file_extension": ".py",
   "mimetype": "text/x-python",
   "name": "python",
   "nbconvert_exporter": "python",
   "pygments_lexer": "ipython3",
   "version": "3.8.3"
  }
 },
 "nbformat": 4,
 "nbformat_minor": 4
}
